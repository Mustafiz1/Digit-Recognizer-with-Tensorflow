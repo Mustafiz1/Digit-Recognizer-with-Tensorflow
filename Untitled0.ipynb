{
  "nbformat": 4,
  "nbformat_minor": 0,
  "metadata": {
    "colab": {
      "provenance": [],
      "collapsed_sections": []
    },
    "kernelspec": {
      "name": "python3",
      "display_name": "Python 3"
    },
    "language_info": {
      "name": "python"
    }
  },
  "cells": [
    {
      "cell_type": "code",
      "source": [
        "# Digit Classifier"
      ],
      "metadata": {
        "id": "0_-eNdvbnp2O"
      },
      "execution_count": null,
      "outputs": []
    },
    {
      "cell_type": "code",
      "execution_count": null,
      "metadata": {
        "id": "uMcod9UGk7P2"
      },
      "outputs": [],
      "source": [
        "import numpy as np\n",
        "import pandas as pd\n",
        "import matplotlib.pyplot as plt"
      ]
    },
    {
      "cell_type": "code",
      "source": [
        "import tensorflow\n",
        "from tensorflow import keras\n",
        "from tensorflow.keras import Sequential\n",
        "from tensorflow.keras.layers import Flatten, Dense"
      ],
      "metadata": {
        "id": "_-bmN47Alehg"
      },
      "execution_count": null,
      "outputs": []
    },
    {
      "cell_type": "code",
      "source": [
        "(X_train, y_train), (X_test, y_test) = keras.datasets.mnist.load_data()"
      ],
      "metadata": {
        "colab": {
          "base_uri": "https://localhost:8080/"
        },
        "id": "nALeNrDpl09S",
        "outputId": "7dd030b0-06d6-40c5-8b78-111c397bb2a3"
      },
      "execution_count": null,
      "outputs": [
        {
          "output_type": "stream",
          "name": "stdout",
          "text": [
            "Downloading data from https://storage.googleapis.com/tensorflow/tf-keras-datasets/mnist.npz\n",
            "11490434/11490434 [==============================] - 0s 0us/step\n"
          ]
        }
      ]
    },
    {
      "cell_type": "code",
      "source": [
        "X_train.shape"
      ],
      "metadata": {
        "colab": {
          "base_uri": "https://localhost:8080/"
        },
        "id": "GRKHqE8OmEto",
        "outputId": "a36a0068-d04e-4599-ccdb-e89f093dfe70"
      },
      "execution_count": null,
      "outputs": [
        {
          "output_type": "execute_result",
          "data": {
            "text/plain": [
              "(60000, 28, 28)"
            ]
          },
          "metadata": {},
          "execution_count": 7
        }
      ]
    },
    {
      "cell_type": "code",
      "source": [
        "X_train[0].shape"
      ],
      "metadata": {
        "colab": {
          "base_uri": "https://localhost:8080/"
        },
        "id": "-lT4ZXIDmRHf",
        "outputId": "68e27521-8c81-4f47-c3d8-05c411601f86"
      },
      "execution_count": null,
      "outputs": [
        {
          "output_type": "execute_result",
          "data": {
            "text/plain": [
              "(28, 28)"
            ]
          },
          "metadata": {},
          "execution_count": 10
        }
      ]
    },
    {
      "cell_type": "code",
      "source": [
        "plt.imshow(X_test[10])\n",
        "print(y_test[10])"
      ],
      "metadata": {
        "colab": {
          "base_uri": "https://localhost:8080/",
          "height": 282
        },
        "id": "_vcVVrTImei5",
        "outputId": "a2ef2c97-46f9-46b1-9ad0-e6f463178be8"
      },
      "execution_count": null,
      "outputs": [
        {
          "output_type": "stream",
          "name": "stdout",
          "text": [
            "0\n"
          ]
        },
        {
          "output_type": "display_data",
          "data": {
            "text/plain": [
              "<Figure size 432x288 with 1 Axes>"
            ],
            "image/png": "[encoded data removed]"
          },
          "metadata": {
            "needs_background": "light"
          }
        }
      ]
    },
    {
      "cell_type": "code",
      "source": [
        "X_train = X_train /255\n",
        "X_test = X_test /255"
      ],
      "metadata": {
        "id": "qEjNX3ismzSX"
      },
      "execution_count": null,
      "outputs": []
    },
    {
      "cell_type": "code",
      "source": [
        "## Data flattenning"
      ],
      "metadata": {
        "id": "nT-UNToVoRp0"
      },
      "execution_count": null,
      "outputs": []
    },
    {
      "cell_type": "code",
      "source": [
        "model = Sequential()"
      ],
      "metadata": {
        "id": "7vv7QqGfn1e8"
      },
      "execution_count": null,
      "outputs": []
    },
    {
      "cell_type": "code",
      "source": [
        "model.add(Flatten(input_shape= (28,28)))\n",
        "model.add(Dense(128, activation ='relu'))\n",
        "model.add(Dense(10, activation = 'softmax'))"
      ],
      "metadata": {
        "id": "-tTOzqFEn7d0"
      },
      "execution_count": null,
      "outputs": []
    },
    {
      "cell_type": "code",
      "source": [
        "model.summary()"
      ],
      "metadata": {
        "colab": {
          "base_uri": "https://localhost:8080/"
        },
        "id": "7sXbyupPoex9",
        "outputId": "8609af0a-960f-440a-c6ee-a479221578b9"
      },
      "execution_count": null,
      "outputs": [
        {
          "output_type": "stream",
          "name": "stdout",
          "text": [
            "Model: \"sequential_1\"\n",
            "_________________________________________________________________\n",
            " Layer (type)                Output Shape              Param #   \n",
            "=================================================================\n",
            " flatten_2 (Flatten)         (None, 784)               0         \n",
            "                                                                 \n",
            " dense_2 (Dense)             (None, 128)               100480    \n",
            "                                                                 \n",
            " dense_3 (Dense)             (None, 10)                1290      \n",
            "                                                                 \n",
            "=================================================================\n",
            "Total params: 101,770\n",
            "Trainable params: 101,770\n",
            "Non-trainable params: 0\n",
            "_________________________________________________________________\n"
          ]
        }
      ]
    },
    {
      "cell_type": "code",
      "source": [
        "model.compile(optimizer = 'Adam', loss = 'sparse_categorical_crossentropy',metrics = 'accuracy' )"
      ],
      "metadata": {
        "id": "qVNTLSA1owMl"
      },
      "execution_count": null,
      "outputs": []
    },
    {
      "cell_type": "code",
      "source": [
        "model.fit(X_train, y_train, batch_size = 64, epochs = 20, verbose = 1, validation_split =0.2)"
      ],
      "metadata": {
        "colab": {
          "base_uri": "https://localhost:8080/"
        },
        "id": "6TVL31E-pULw",
        "outputId": "2ed8ab83-20e9-4f0b-fcba-2107636e3a35"
      },
      "execution_count": null,
      "outputs": [
        {
          "output_type": "stream",
          "name": "stdout",
          "text": [
            "Epoch 1/20\n",
            "750/750 [==============================] - 3s 4ms/step - loss: 0.0243 - accuracy: 0.9935 - val_loss: 0.0878 - val_accuracy: 0.9756\n",
            "Epoch 2/20\n",
            "750/750 [==============================] - 3s 5ms/step - loss: 0.0194 - accuracy: 0.9951 - val_loss: 0.0857 - val_accuracy: 0.9770\n",
            "Epoch 3/20\n",
            "750/750 [==============================] - 3s 4ms/step - loss: 0.0159 - accuracy: 0.9960 - val_loss: 0.0924 - val_accuracy: 0.9752\n",
            "Epoch 4/20\n",
            "750/750 [==============================] - 3s 4ms/step - loss: 0.0143 - accuracy: 0.9963 - val_loss: 0.0970 - val_accuracy: 0.9743\n",
            "Epoch 5/20\n",
            "750/750 [==============================] - 3s 5ms/step - loss: 0.0111 - accuracy: 0.9975 - val_loss: 0.0928 - val_accuracy: 0.9762\n",
            "Epoch 6/20\n",
            "750/750 [==============================] - 3s 5ms/step - loss: 0.0083 - accuracy: 0.9982 - val_loss: 0.1022 - val_accuracy: 0.9760\n",
            "Epoch 7/20\n",
            "750/750 [==============================] - 3s 4ms/step - loss: 0.0086 - accuracy: 0.9981 - val_loss: 0.1101 - val_accuracy: 0.9734\n",
            "Epoch 8/20\n",
            "750/750 [==============================] - 4s 5ms/step - loss: 0.0095 - accuracy: 0.9974 - val_loss: 0.1126 - val_accuracy: 0.9750\n",
            "Epoch 9/20\n",
            "750/750 [==============================] - 3s 4ms/step - loss: 0.0044 - accuracy: 0.9994 - val_loss: 0.1030 - val_accuracy: 0.9778\n",
            "Epoch 10/20\n",
            "750/750 [==============================] - 3s 5ms/step - loss: 0.0041 - accuracy: 0.9995 - val_loss: 0.1140 - val_accuracy: 0.9759\n",
            "Epoch 11/20\n",
            "750/750 [==============================] - 4s 5ms/step - loss: 0.0074 - accuracy: 0.9979 - val_loss: 0.1056 - val_accuracy: 0.9760\n",
            "Epoch 12/20\n",
            "750/750 [==============================] - 3s 4ms/step - loss: 0.0055 - accuracy: 0.9984 - val_loss: 0.1203 - val_accuracy: 0.9740\n",
            "Epoch 13/20\n",
            "750/750 [==============================] - 4s 5ms/step - loss: 0.0030 - accuracy: 0.9995 - val_loss: 0.1121 - val_accuracy: 0.9770\n",
            "Epoch 14/20\n",
            "750/750 [==============================] - 3s 5ms/step - loss: 0.0014 - accuracy: 0.9999 - val_loss: 0.1166 - val_accuracy: 0.9767\n",
            "Epoch 15/20\n",
            "750/750 [==============================] - 3s 4ms/step - loss: 0.0022 - accuracy: 0.9998 - val_loss: 0.1112 - val_accuracy: 0.9783\n",
            "Epoch 16/20\n",
            "750/750 [==============================] - 4s 5ms/step - loss: 0.0021 - accuracy: 0.9996 - val_loss: 0.1417 - val_accuracy: 0.9705\n",
            "Epoch 17/20\n",
            "750/750 [==============================] - 4s 5ms/step - loss: 0.0084 - accuracy: 0.9974 - val_loss: 0.1196 - val_accuracy: 0.9770\n",
            "Epoch 18/20\n",
            "750/750 [==============================] - 4s 5ms/step - loss: 0.0020 - accuracy: 0.9996 - val_loss: 0.1171 - val_accuracy: 0.9776\n",
            "Epoch 19/20\n",
            "750/750 [==============================] - 4s 5ms/step - loss: 0.0027 - accuracy: 0.9994 - val_loss: 0.1216 - val_accuracy: 0.9761\n",
            "Epoch 20/20\n",
            "750/750 [==============================] - 3s 5ms/step - loss: 0.0044 - accuracy: 0.9985 - val_loss: 0.1515 - val_accuracy: 0.9732\n"
          ]
        },
        {
          "output_type": "execute_result",
          "data": {
            "text/plain": [
              "<keras.callbacks.History at 0x7fce43f2f250>"
            ]
          },
          "metadata": {},
          "execution_count": 41
        }
      ]
    },
    {
      "cell_type": "code",
      "source": [
        "model.evaluate(X_test, y_test)"
      ],
      "metadata": {
        "colab": {
          "base_uri": "https://localhost:8080/"
        },
        "id": "2IJA0oTvplhI",
        "outputId": "3ef8c7e3-9f4d-4284-ba61-7b6cc840062b"
      },
      "execution_count": null,
      "outputs": [
        {
          "output_type": "stream",
          "name": "stdout",
          "text": [
            "313/313 [==============================] - 1s 2ms/step - loss: 0.1331 - accuracy: 0.9734\n"
          ]
        },
        {
          "output_type": "execute_result",
          "data": {
            "text/plain": [
              "[0.13307370245456696, 0.9733999967575073]"
            ]
          },
          "metadata": {},
          "execution_count": 42
        }
      ]
    },
    {
      "cell_type": "code",
      "source": [
        "model.predict(X_test)"
      ],
      "metadata": {
        "colab": {
          "base_uri": "https://localhost:8080/"
        },
        "id": "7uKr8h-ep5_X",
        "outputId": "114fd7db-ee29-4dbd-d0ff-a2e1791a1979"
      },
      "execution_count": null,
      "outputs": [
        {
          "output_type": "stream",
          "name": "stdout",
          "text": [
            "313/313 [==============================] - 1s 2ms/step\n"
          ]
        },
        {
          "output_type": "execute_result",
          "data": {
            "text/plain": [
              "array([[8.2594928e-14, 2.7342427e-14, 1.0873334e-09, ..., 9.9999839e-01,\n",
              "        7.0823104e-11, 4.7365222e-07],\n",
              "       [3.8702130e-15, 6.6577181e-11, 9.9999994e-01, ..., 6.9546201e-32,\n",
              "        1.8202101e-10, 5.5456715e-20],\n",
              "       [1.7113373e-09, 9.9999481e-01, 3.6342915e-06, ..., 2.1790032e-07,\n",
              "        1.1532359e-06, 9.8045794e-10],\n",
              "       ...,\n",
              "       [2.2924352e-26, 9.7817711e-24, 5.7909861e-21, ..., 3.6230643e-13,\n",
              "        4.1697489e-16, 3.7768522e-09],\n",
              "       [9.5644268e-19, 3.7985874e-22, 6.0378659e-21, ..., 1.1129015e-17,\n",
              "        3.1950647e-12, 4.3400186e-18],\n",
              "       [8.0296826e-15, 2.2723745e-19, 7.8837925e-20, ..., 1.4464402e-24,\n",
              "        9.0893247e-21, 5.9350383e-20]], dtype=float32)"
            ]
          },
          "metadata": {},
          "execution_count": 43
        }
      ]
    },
    {
      "cell_type": "code",
      "source": [
        "plt.imshow(X_test[8])"
      ],
      "metadata": {
        "colab": {
          "base_uri": "https://localhost:8080/",
          "height": 282
        },
        "id": "41qMkJ7TqRxW",
        "outputId": "a9403aff-04ef-45a6-9059-45450fd8236d"
      },
      "execution_count": null,
      "outputs": [
        {
          "output_type": "execute_result",
          "data": {
            "text/plain": [
              "<matplotlib.image.AxesImage at 0x7fce43df3c90>"
            ]
          },
          "metadata": {},
          "execution_count": 45
        },
        {
          "output_type": "display_data",
          "data": {
            "text/plain": [
              "<Figure size 432x288 with 1 Axes>"
            ],
            "image/png": "[encoded data removed]"
          },
          "metadata": {
            "needs_background": "light"
          }
        }
      ]
    },
    {
      "cell_type": "code",
      "source": [],
      "metadata": {
        "id": "Scyk5YveqwEl"
      },
      "execution_count": null,
      "outputs": []
    },
    {
      "cell_type": "code",
      "source": [],
      "metadata": {
        "id": "xAmBbqumr5-O"
      },
      "execution_count": null,
      "outputs": []
    }
  ]
}